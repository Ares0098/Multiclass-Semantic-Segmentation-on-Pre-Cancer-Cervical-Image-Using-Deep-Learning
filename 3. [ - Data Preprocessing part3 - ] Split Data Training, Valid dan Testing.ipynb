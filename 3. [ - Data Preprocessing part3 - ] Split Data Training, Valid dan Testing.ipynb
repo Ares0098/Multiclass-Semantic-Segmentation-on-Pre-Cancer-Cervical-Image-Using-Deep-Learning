{
 "cells": [
  {
   "cell_type": "code",
   "execution_count": 1,
   "id": "ace4d537",
   "metadata": {},
   "outputs": [
    {
     "name": "stderr",
     "output_type": "stream",
     "text": [
      "2023-06-14 14:23:17.868441: I tensorflow/stream_executor/platform/default/dso_loader.cc:49] Successfully opened dynamic library libcudart.so.10.1\n"
     ]
    },
    {
     "name": "stdout",
     "output_type": "stream",
     "text": [
      "Segmentation Models: using `tf.keras` framework.\n"
     ]
    }
   ],
   "source": [
    "import tensorflow as tf\n",
    "import segmentation_models as sm\n",
    "import glob\n",
    "import cv2\n",
    "import os\n",
    "import numpy as np\n",
    "from matplotlib import pyplot as plt\n",
    "#import keras\n",
    "import tensorflow as tf\n",
    "import joblib\n",
    "import pandas as pd\n",
    "import shutil\n",
    "\n",
    "# from keras.utils import normalize\n",
    "# from keras.metrics import MeanIoU\n",
    "# from keras.utils import to_categorical\n",
    "# from keras import backend as K\n",
    "from sklearn.model_selection import train_test_split\n",
    "from tensorflow.python.keras.callbacks import ModelCheckpoint\n",
    "from tensorflow.keras.models import load_model"
   ]
  },
  {
   "cell_type": "code",
   "execution_count": 2,
   "id": "be687678",
   "metadata": {},
   "outputs": [],
   "source": [
    "SIZE_X = 128 #Bisa Disesuaikan\n",
    "SIZE_Y = 128 #Bisa Disesuaikan\n",
    "n_classes = 5\n",
    "\n",
    "img_list = sorted(os.listdir('Dataset/Image/'))\n",
    "msk_list = sorted(os.listdir('Dataset/GT/'))"
   ]
  },
  {
   "cell_type": "code",
   "execution_count": 3,
   "id": "7a6b431d",
   "metadata": {},
   "outputs": [],
   "source": [
    "X_train, X_test, y_train, y_test = train_test_split(img_list, msk_list, test_size = 0.20, random_state = 42)\n",
    "X_train, X_valid, y_train, y_valid = train_test_split(X_train, y_train, test_size = 0.20, random_state = 42)"
   ]
  },
  {
   "cell_type": "code",
   "execution_count": 4,
   "id": "601904a6",
   "metadata": {},
   "outputs": [
    {
     "name": "stdout",
     "output_type": "stream",
     "text": [
      "365\n",
      "365\n",
      "92\n",
      "92\n",
      "115\n",
      "115\n"
     ]
    }
   ],
   "source": [
    "print(len(X_train))\n",
    "print(len(y_train))\n",
    "print(len(X_valid))\n",
    "print(len(y_valid))\n",
    "print(len(X_test))\n",
    "print(len(y_test))"
   ]
  },
  {
   "cell_type": "code",
   "execution_count": 5,
   "id": "38416686",
   "metadata": {},
   "outputs": [
    {
     "data": {
      "text/plain": [
       "['17903997_150779644589958.jpg',\n",
       " '23.jpg',\n",
       " '39.jpg',\n",
       " '40.jpg',\n",
       " '436rfgaeyy4.jpg',\n",
       " '83.jpg',\n",
       " '85.jpg',\n",
       " 'Abnormal1.jpg',\n",
       " 'Abnormal113.jpeg',\n",
       " 'Abnormal125.jpeg',\n",
       " 'Abnormal127.JPG',\n",
       " 'Abnormal129.JPG',\n",
       " 'Abnormal13.jpg',\n",
       " 'Abnormal131.JPG',\n",
       " 'Abnormal132.JPG',\n",
       " 'Abnormal14.jpg',\n",
       " 'Abnormal15.jpg',\n",
       " 'Abnormal16.jpg',\n",
       " 'Abnormal18.jpg',\n",
       " 'Abnormal19.jpg',\n",
       " 'Abnormal2.jpg',\n",
       " 'Abnormal20.jpg',\n",
       " 'Abnormal22.jpg',\n",
       " 'Abnormal26.jpg',\n",
       " 'Abnormal36.jpg',\n",
       " 'Abnormal39.jpg',\n",
       " 'Abnormal43.jpg',\n",
       " 'Abnormal45.jpg',\n",
       " 'Abnormal52.jpg',\n",
       " 'Abnormal64.JPG',\n",
       " 'Abnormal65.JPG',\n",
       " 'Abnormal73.jpeg',\n",
       " 'Abnormal78.jpeg',\n",
       " 'Abnormal80.jpeg',\n",
       " 'Abnormal85.jpeg',\n",
       " 'Abnormal87.JPG',\n",
       " 'Abnormal94.jpeg',\n",
       " 'Abnormal96.jpeg',\n",
       " 'Abnormal98.jpeg',\n",
       " 'Foto Porsio_210426_2.jpg',\n",
       " 'Foto Porsio_210426_61.jpg',\n",
       " 'Foto Porsio_210426_83.jpg',\n",
       " 'Foto Porsio_210426_98.jpg',\n",
       " 'IMG_2300.JPG',\n",
       " 'IMG_2304.JPG',\n",
       " 'IMG_2308.JPG',\n",
       " 'IMG_2309 2.JPG',\n",
       " 'IMG_2342.JPG',\n",
       " 'IMG_2348.JPG',\n",
       " 'IMG_2391.JPG',\n",
       " 'Internet_20210106_122236_1.jpeg',\n",
       " 'Internet_20210106_124808_1.jpeg',\n",
       " 'Internet_20210106_124923_1.jpeg',\n",
       " 'Internet_20210106_125743_1.jpeg',\n",
       " 'Internet_20210106_191659_2.jpeg',\n",
       " 'Internet_20210106_192305_4.jpeg',\n",
       " 'Normal1.jpg',\n",
       " 'Normal100.jpg',\n",
       " 'Normal102.jpg',\n",
       " 'Normal109.jpg',\n",
       " 'Normal111.jpg',\n",
       " 'Normal115.jpg',\n",
       " 'Normal117.jpeg',\n",
       " 'Normal118.jpeg',\n",
       " 'Normal123.JPG',\n",
       " 'Normal126.JPG',\n",
       " 'Normal22.png',\n",
       " 'Normal28.jpeg',\n",
       " 'Normal31.jpeg',\n",
       " 'Normal32.jpeg',\n",
       " 'Normal41.jpeg',\n",
       " 'Normal49.jpeg',\n",
       " 'Normal51.jpeg',\n",
       " 'Normal52.jpeg',\n",
       " 'Normal54.jpeg',\n",
       " 'Normal55.jpeg',\n",
       " 'Normal58.jpeg',\n",
       " 'Normal6.jpeg',\n",
       " 'Normal85.jpg',\n",
       " 'P11.jpg',\n",
       " 'P9.jpg',\n",
       " 'Screen Shot 2021-01-01 at 09.58.37.jpg',\n",
       " 'Screen Shot 2021-01-01 at 18.17.01.jpg',\n",
       " 'Screen Shot 2021-01-01 at 18.26.13.jpg',\n",
       " 'Screen Shot 2021-08-02 at 11.39.51.png',\n",
       " 'Screenshot (43).png',\n",
       " 'Screenshot (62) - Copy.png',\n",
       " 'Screenshot (62).png',\n",
       " 'Screenshot (68).png',\n",
       " 'Screenshot (72) - Copy.png',\n",
       " 'WA image.jpeg',\n",
       " 'WhatsApp Image 2020-08-11 at 17.54.07 (19).jpeg',\n",
       " 'WhatsApp Image 2020-08-11 at 17.54.07 (21).jpeg',\n",
       " 'WhatsApp Image 2020-08-11 at 17.54.07 (22).jpeg',\n",
       " 'WhatsApp Image 2020-08-11 at 17.54.07 (31).jpeg',\n",
       " 'WhatsApp Image 2021-04-26 at 21.46.25.jpeg',\n",
       " 'WhatsApp Image 2021-04-26 at 21.47.36.jpeg',\n",
       " 'WhatsApp Image 2021-04-26 at 21.48.10.jpeg',\n",
       " 'WhatsApp Image 2021-04-26 at 21.48.42.jpeg',\n",
       " 'download (9).jpg',\n",
       " 'fig6-3.jpg',\n",
       " 'gambaran cervix Image 2021-04-25 at 07.12.39.jpeg',\n",
       " 'gambaran cervix Image 2021-04-25 at 07.12.58.jpeg',\n",
       " 'gambaran cervix Image 2021-04-26 at 15.55.22.jpeg',\n",
       " 'gambaran cervix Image 2021-04-26 at 15.55.36.jpeg',\n",
       " 'gambaran cervix Image 2021-04-26 at 15.59.33.jpeg',\n",
       " 'gambaran cervix Image 2021-04-26 at 16.01.26.jpeg',\n",
       " 'gambaran cervix Image 2021-04-26 at 16.02.31 2.jpeg',\n",
       " 'images-4.jpeg',\n",
       " 'images-41.jpeg',\n",
       " 'images-42.jpeg',\n",
       " 'serviks (309).jpg',\n",
       " 'serviks (378).jpg',\n",
       " 'serviks (380).jpg',\n",
       " 'slide_142352tr.jpg']"
      ]
     },
     "execution_count": 5,
     "metadata": {},
     "output_type": "execute_result"
    }
   ],
   "source": [
    "sorted(X_test)"
   ]
  },
  {
   "cell_type": "code",
   "execution_count": 6,
   "id": "99438567",
   "metadata": {},
   "outputs": [
    {
     "name": "stderr",
     "output_type": "stream",
     "text": [
      "libpng warning: iCCP: extra compressed data\n",
      "libpng warning: iCCP: extra compressed data\n"
     ]
    }
   ],
   "source": [
    "SIZE_X = 128 \n",
    "SIZE_Y = 128\n",
    "k = [[X_train, y_train], [X_valid, y_valid], [X_test, y_test]]\n",
    "name = [['X_train', 'y_train'], ['X_valid', 'y_valid'], ['X_test', 'y_test']]\n",
    "\n",
    "for idx, part in enumerate([len(y_train), len(y_valid), len(y_test)]) :\n",
    "    img_test = []\n",
    "    msk_test = []\n",
    "    for img in range(part) :\n",
    "        \n",
    "        img_path = f'Image/{k[idx][0][img]}'\n",
    "        msk_path = f'GT/{k[idx][1][img]}'\n",
    "        \n",
    "        image = cv2.imread(img_path, 1)       \n",
    "        image = cv2.resize(image, (SIZE_Y, SIZE_X))\n",
    "        image = cv2.cvtColor(image, cv2.COLOR_BGR2RGB)\n",
    "        img_test.append(image)\n",
    "        \n",
    "        mask = cv2.imread(msk_path, 0)       \n",
    "        mask = cv2.resize(mask, (SIZE_Y, SIZE_X), interpolation = cv2.INTER_NEAREST)  #Otherwise ground truth changes due to interpolation\n",
    "        # mask = cv2.cvtColor(mask, cv2.COLOR_BGR2RGB)\n",
    "        msk_test.append(mask)\n",
    "    \n",
    "    joblib.dump(img_test, f'Dataset/Splitted Data/{name[idx][0]}.data')\n",
    "    joblib.dump(msk_test, f'Dataset/Splitted Data/{name[idx][1]}.data')"
   ]
  },
  {
   "cell_type": "code",
   "execution_count": null,
   "id": "ddda431b",
   "metadata": {},
   "outputs": [],
   "source": []
  }
 ],
 "metadata": {
  "kernelspec": {
   "display_name": "Python 3 (ipykernel)",
   "language": "python",
   "name": "python3"
  },
  "language_info": {
   "codemirror_mode": {
    "name": "ipython",
    "version": 3
   },
   "file_extension": ".py",
   "mimetype": "text/x-python",
   "name": "python",
   "nbconvert_exporter": "python",
   "pygments_lexer": "ipython3",
   "version": "3.7.15"
  }
 },
 "nbformat": 4,
 "nbformat_minor": 5
}
